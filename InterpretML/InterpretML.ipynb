{
 "cells": [
  {
   "cell_type": "markdown",
   "metadata": {},
   "source": [
    "# EBM 알고리즘 구현\n",
    "- Paper link: https://arxiv.org/abs/1909.09223\n",
    "- Code link1: https://github.com/interpretml/interpret/tree/develop/examples/python/notebooks\n",
    "- Code link2: https://medium.com/analytics-vidhya/model-interpretation-with-microsofts-interpret-ml-85aa0ad697ae\n",
    "- Data link: https://archive.ics.uci.edu/ml/datasets/bank+marketing"
   ]
  },
  {
   "cell_type": "code",
   "execution_count": 7,
   "metadata": {},
   "outputs": [],
   "source": [
    "# pip install interpret"
   ]
  },
  {
   "cell_type": "markdown",
   "metadata": {},
   "source": [
    "## EBM을 통한 Regression 구현\n",
    "- 보스턴 데이터 가격 예측"
   ]
  },
  {
   "cell_type": "code",
   "execution_count": 1,
   "metadata": {},
   "outputs": [],
   "source": [
    "## 라이브러리 불러오기\n",
    "import pandas as pd\n",
    "import numpy as np\n",
    "from sklearn.datasets import load_boston\n",
    "from sklearn.model_selection import train_test_split\n",
    "import warnings\n",
    "warnings.filterwarnings('ignore')"
   ]
  },
  {
   "cell_type": "code",
   "execution_count": 2,
   "metadata": {},
   "outputs": [],
   "source": [
    "## 데이터 불러오기\n",
    "boston = load_boston()\n",
    "feature_names = list(boston.feature_names)\n",
    "df = pd.DataFrame(boston.data, columns = feature_names)\n",
    "df['target'] = boston.target\n",
    "train_cols = df.columns[0:-1]\n",
    "label = df.columns[-1]\n",
    "X = df[train_cols]\n",
    "y = df[label]\n",
    "\n",
    "seed = 1\n",
    "X_train, X_test, y_train, y_test = train_test_split(X, y, test_size=0.2, random_state=seed)"
   ]
  },
  {
   "cell_type": "code",
   "execution_count": 3,
   "metadata": {},
   "outputs": [
    {
     "data": {
      "text/plain": [
       "count    404.000000\n",
       "mean      22.522277\n",
       "std        8.998991\n",
       "min        5.000000\n",
       "25%       17.175000\n",
       "50%       21.050000\n",
       "75%       25.225000\n",
       "max       50.000000\n",
       "Name: target, dtype: float64"
      ]
     },
     "execution_count": 3,
     "metadata": {},
     "output_type": "execute_result"
    }
   ],
   "source": [
    "# 타겟 변수의 요약 통계량\n",
    "y_train.describe()"
   ]
  },
  {
   "cell_type": "code",
   "execution_count": 4,
   "metadata": {},
   "outputs": [
    {
     "data": {
      "text/html": [
       "<!-- http://127.0.0.1:7001/1763683627848/ -->\n",
       "<iframe src=\"http://127.0.0.1:7001/1763683627848/\" width=100% height=800 frameBorder=\"0\"></iframe>"
      ]
     },
     "metadata": {},
     "output_type": "display_data"
    }
   ],
   "source": [
    "\"\"\"Marginal(): 모델 적합 전의 X와 y 변수 간의 marginal plot\"\"\"\n",
    "    # 피어슨 상관계수도 확인할 수 있음\n",
    "from interpret import show\n",
    "from interpret.data import Marginal\n",
    "\n",
    "marginal = Marginal().explain_data(X_train, y_train, name = 'Train Data')\n",
    "show(marginal)"
   ]
  },
  {
   "cell_type": "code",
   "execution_count": 7,
   "metadata": {},
   "outputs": [
    {
     "data": {
      "text/html": [
       "<!-- http://127.0.0.1:7001/1764006113864/ -->\n",
       "<iframe src=\"http://127.0.0.1:7001/1764006113864/\" width=100% height=800 frameBorder=\"0\"></iframe>"
      ]
     },
     "metadata": {},
     "output_type": "display_data"
    }
   ],
   "source": [
    "\"\"\"Global Explanation\"\"\"\n",
    "## Local explanation은 각각의 개별 인스턴스를 상대로 각 피처의 기여도를 보여주나 \n",
    "## global explanation은 모델이 전체 인스턴스를 학습함으로써 획득한 전반적인 관점에서의 설명 가능성을 제공한다.\n",
    "## 먼저 EBM 객체를 생성하여 train data에 적합시킨다.\n",
    "from interpret.glassbox import ExplainableBoostingRegressor, LinearRegression, RegressionTree\n",
    "\n",
    "ebm = ExplainableBoostingRegressor(random_state = 42, n_jobs=1)\n",
    "ebm.fit(X_train, y_train)\n",
    "\n",
    "## Global Explanation\n",
    "ebm_global = ebm.explain_global(name='EBM')\n",
    "show(ebm_global)"
   ]
  },
  {
   "cell_type": "markdown",
   "metadata": {},
   "source": [
    "- 전체 Summary는 LSTAT 변수가 가장 중요한 변수라고 말하고 있다.\n",
    "- `드롭다운을 클릭해보면 변수마다 전체 샘플에 대해 갖는 score의 plot을 볼 수 있다.` LSTAT 변수는 값이 증가함에 따라 score가 감소하는 경향을 보인다.\n",
    "- LSTAT 변수의 오른쪽 끝을 보면 upper bound와 lower bound가 매우 큰 것을 알 수 있다. 이느 해당 구간 score의 분산이 매우 큰 것을 의미한다.\n",
    "- 아래의 히스토그램은 해당 구간에 존재하는 데이터 샘플의 수(density)를 나타낸다."
   ]
  },
  {
   "cell_type": "code",
   "execution_count": 8,
   "metadata": {},
   "outputs": [
    {
     "data": {
      "text/html": [
       "<!-- http://127.0.0.1:7001/1764006306632/ -->\n",
       "<iframe src=\"http://127.0.0.1:7001/1764006306632/\" width=100% height=800 frameBorder=\"0\"></iframe>"
      ]
     },
     "metadata": {},
     "output_type": "display_data"
    }
   ],
   "source": [
    "# Local Explanations: How an individual prediction was made\n",
    "\n",
    "ebm_local = ebm.explain_local(X_test[:5], y_test[:5], name='EBM')\n",
    "show(ebm_local)"
   ]
  },
  {
   "cell_type": "markdown",
   "metadata": {},
   "source": [
    "- 이는 각각의 feature가 모델의 예측 결과에 미친 영향을 나타낸다.\n",
    "- 파란 막대는 음의 기여도를 주황 막대는 양의 기여도를 보인다.\n",
    "- 이 모든 기여도가 더해져 최종 예측 값이 계산된다."
   ]
  },
  {
   "cell_type": "markdown",
   "metadata": {},
   "source": [
    "----"
   ]
  },
  {
   "cell_type": "markdown",
   "metadata": {},
   "source": [
    "## EBM을 통한 Classification 구현"
   ]
  },
  {
   "cell_type": "code",
   "execution_count": 52,
   "metadata": {},
   "outputs": [],
   "source": [
    "\"\"\"\n",
    "포르투갈 은행 기관의 마케팅 캠페인 데이터\n",
    "target(y) : 캠페인의 일부로 고객이 제품(은행 정기 예금)을 구독할지 않을지를 예측\n",
    "\"\"\"\n",
    "df = pd.read_csv('bank.csv')\n",
    "y = df[\"y\"].map({\"no\": 0, \"yes\": 1})\n",
    "X = df.drop(\"y\", axis=1)\n",
    "\n",
    "num_features = [\"age\", \"campaign\", \"pdays\", \"previous\"]\n",
    "\n",
    "cat_features = [\"job\", \"marital\", \"education\",\"default\", \"housing\", \"loan\", \"contact\", \"month\", \"day\", \"poutcome\"]\n",
    "preprocessor = ColumnTransformer([(\"numerical\", \"passthrough\", num_features), \n",
    "                                (\"categorical\", OneHotEncoder(sparse=False, handle_unknown=\"ignore\"),cat_features)])\n",
    "X_train, X_test, y_train, y_test = train_test_split(X, y, stratify=y, test_size=.3, random_state=42)\n"
   ]
  },
  {
   "cell_type": "code",
   "execution_count": 53,
   "metadata": {},
   "outputs": [
    {
     "data": {
      "text/plain": [
       "array([[37.,  1., -1., ...,  0.,  0.,  1.],\n",
       "       [25.,  1., -1., ...,  0.,  0.,  1.],\n",
       "       [53.,  3., -1., ...,  0.,  0.,  1.],\n",
       "       ...,\n",
       "       [35.,  2., -1., ...,  0.,  0.,  1.],\n",
       "       [37.,  4., -1., ...,  0.,  0.,  1.],\n",
       "       [63.,  1., -1., ...,  0.,  0.,  1.]])"
      ]
     },
     "execution_count": 53,
     "metadata": {},
     "output_type": "execute_result"
    }
   ],
   "source": [
    "preprocessor.fit(X_train)\n",
    "\n",
    "preprocessor.transform(X_train)"
   ]
  },
  {
   "cell_type": "code",
   "execution_count": 54,
   "metadata": {},
   "outputs": [],
   "source": [
    "# Get the list of categories generated by the process\n",
    "ohe_categories = preprocessor.named_transformers_[\"categorical\"].categories_\n",
    "\n",
    "# Create nice names for our one hot encoded features\n",
    "new_ohe_features = [f\"{col}__{val}\" for col, vals in zip(cat_features, ohe_categories) for val in vals]\n",
    "\n",
    "# Create a new list with all names of features\n",
    "all_features = num_features + new_ohe_features"
   ]
  },
  {
   "cell_type": "code",
   "execution_count": 55,
   "metadata": {},
   "outputs": [],
   "source": [
    "X_train = pd.DataFrame(preprocessor.transform(X_train), columns=all_features)\n",
    "X_test = pd.DataFrame(preprocessor.transform(X_test), columns=all_features)"
   ]
  },
  {
   "cell_type": "code",
   "execution_count": 56,
   "metadata": {},
   "outputs": [
    {
     "data": {
      "text/html": [
       "<!-- http://127.0.0.1:7001/1764055907016/ -->\n",
       "<iframe src=\"http://127.0.0.1:7001/1764055907016/\" width=100% height=800 frameBorder=\"0\"></iframe>"
      ]
     },
     "metadata": {},
     "output_type": "display_data"
    }
   ],
   "source": [
    "\"\"\"ClassHistogram() : 데이터셋에 대한 EDA를 해준다. \n",
    "- 데이터에 결측치가 존재해서는 안된다.\"\"\"\n",
    "\n",
    "from interpret import show\n",
    "from interpret.data import ClassHistogram\n",
    "\n",
    "hist = ClassHistogram().explain_data(X_train, y_train, name = 'Train Data')\n",
    "show(hist)"
   ]
  },
  {
   "cell_type": "markdown",
   "metadata": {},
   "source": [
    "- 고객이 제품을 구독했는지(1) 구독하지 않았는지(0)에 대해서 Plotly Histogram이 있는 대시보드 생성 "
   ]
  },
  {
   "cell_type": "code",
   "execution_count": 57,
   "metadata": {},
   "outputs": [
    {
     "data": {
      "text/plain": [
       "ExplainableBoostingClassifier(feature_names=['age', 'campaign', 'pdays',\n",
       "                                             'previous', 'job__admin.',\n",
       "                                             'job__blue-collar',\n",
       "                                             'job__entrepreneur',\n",
       "                                             'job__housemaid',\n",
       "                                             'job__management', 'job__retired',\n",
       "                                             'job__self-employed',\n",
       "                                             'job__services', 'job__student',\n",
       "                                             'job__technician',\n",
       "                                             'job__unemployed', 'job__unknown',\n",
       "                                             'marital__divorced',\n",
       "                                             'marital__married',\n",
       "                                             'marital__single',\n",
       "                                             'educa...\n",
       "                                             'categorical', 'categorical',\n",
       "                                             'categorical', 'categorical',\n",
       "                                             'categorical', 'categorical',\n",
       "                                             'categorical', 'categorical',\n",
       "                                             'categorical', 'categorical',\n",
       "                                             'categorical', 'categorical',\n",
       "                                             'categorical', 'categorical',\n",
       "                                             'categorical', 'categorical',\n",
       "                                             'categorical', 'categorical',\n",
       "                                             'categorical', 'categorical',\n",
       "                                             'categorical', 'categorical',\n",
       "                                             'categorical', 'categorical', ...],\n",
       "                              n_jobs=1)"
      ]
     },
     "execution_count": 57,
     "metadata": {},
     "output_type": "execute_result"
    }
   ],
   "source": [
    "from interpret.glassbox import ExplainableBoostingClassifier\n",
    "\n",
    "ebm = ExplainableBoostingClassifier(random_state=42, n_jobs=1)\n",
    "ebm.fit(X_train, y_train)"
   ]
  },
  {
   "cell_type": "code",
   "execution_count": 58,
   "metadata": {},
   "outputs": [
    {
     "data": {
      "text/html": [
       "<!-- http://127.0.0.1:7001/1764093683464/ -->\n",
       "<iframe src=\"http://127.0.0.1:7001/1764093683464/\" width=100% height=800 frameBorder=\"0\"></iframe>"
      ]
     },
     "metadata": {},
     "output_type": "display_data"
    }
   ],
   "source": [
    "ebm_global = ebm.explain_global(name = 'EBM')\n",
    "show(ebm_global)"
   ]
  },
  {
   "cell_type": "markdown",
   "metadata": {},
   "source": [
    "- duration과 contact가 중요한 변수임을 알 수 있다.\n",
    "- age 변수의 시각화 결과는 나이가 30대 이하거나 60대 이상일수록 캠페인이 효과적일 수 있음을 보여준다."
   ]
  },
  {
   "cell_type": "code",
   "execution_count": 59,
   "metadata": {},
   "outputs": [
    {
     "data": {
      "text/html": [
       "<!-- http://127.0.0.1:7001/1764093598664/ -->\n",
       "<iframe src=\"http://127.0.0.1:7001/1764093598664/\" width=100% height=800 frameBorder=\"0\"></iframe>"
      ]
     },
     "metadata": {},
     "output_type": "display_data"
    }
   ],
   "source": [
    "ebm_local = ebm.explain_local(X_test[:4], y_test[:4], name='EBM') \n",
    "show(ebm_local)"
   ]
  },
  {
   "cell_type": "markdown",
   "metadata": {},
   "source": [
    "- PrScore는 예측 score를 의미한다. (이 경우에 0을 예측할 확률이 0.964이고, 실제값은 0이다.)"
   ]
  },
  {
   "cell_type": "code",
   "execution_count": 60,
   "metadata": {},
   "outputs": [
    {
     "data": {
      "text/html": [
       "<!-- http://127.0.0.1:7001/1764093331336/ -->\n",
       "<iframe src=\"http://127.0.0.1:7001/1764093331336/\" width=100% height=800 frameBorder=\"0\"></iframe>"
      ]
     },
     "metadata": {},
     "output_type": "display_data"
    }
   ],
   "source": [
    "\"\"\"ROC 커브 확인\"\"\"\n",
    "from interpret.perf import ROC\n",
    "ebm_perf = ROC(ebm.predict_proba).explain_perf(X_test, y_test, name = 'EBM')\n",
    "show(ebm_perf)"
   ]
  },
  {
   "cell_type": "markdown",
   "metadata": {},
   "source": [
    "## 타 모델들과 비교"
   ]
  },
  {
   "cell_type": "code",
   "execution_count": 61,
   "metadata": {},
   "outputs": [],
   "source": [
    "import pandas as pd\n",
    "from sklearn.preprocessing import OneHotEncoder\n",
    "from sklearn.compose import ColumnTransformer\n",
    "from sklearn.model_selection import train_test_split, GridSearchCV\n",
    "from sklearn.metrics import balanced_accuracy_score, classification_report\n",
    "from lightgbm import LGBMClassifier\n",
    "from interpret.glassbox import ExplainableBoostingClassifier, LogisticRegression, ClassificationTree, DecisionListClassifier"
   ]
  },
  {
   "cell_type": "code",
   "execution_count": 62,
   "metadata": {},
   "outputs": [
    {
     "data": {
      "text/html": [
       "<div>\n",
       "<style scoped>\n",
       "    .dataframe tbody tr th:only-of-type {\n",
       "        vertical-align: middle;\n",
       "    }\n",
       "\n",
       "    .dataframe tbody tr th {\n",
       "        vertical-align: top;\n",
       "    }\n",
       "\n",
       "    .dataframe thead th {\n",
       "        text-align: right;\n",
       "    }\n",
       "</style>\n",
       "<table border=\"1\" class=\"dataframe\">\n",
       "  <thead>\n",
       "    <tr style=\"text-align: right;\">\n",
       "      <th></th>\n",
       "      <th>age</th>\n",
       "      <th>campaign</th>\n",
       "      <th>pdays</th>\n",
       "      <th>previous</th>\n",
       "      <th>job__admin.</th>\n",
       "      <th>job__blue-collar</th>\n",
       "      <th>job__entrepreneur</th>\n",
       "      <th>job__housemaid</th>\n",
       "      <th>job__management</th>\n",
       "      <th>job__retired</th>\n",
       "      <th>...</th>\n",
       "      <th>day__26</th>\n",
       "      <th>day__27</th>\n",
       "      <th>day__28</th>\n",
       "      <th>day__29</th>\n",
       "      <th>day__30</th>\n",
       "      <th>day__31</th>\n",
       "      <th>poutcome__failure</th>\n",
       "      <th>poutcome__other</th>\n",
       "      <th>poutcome__success</th>\n",
       "      <th>poutcome__unknown</th>\n",
       "    </tr>\n",
       "  </thead>\n",
       "  <tbody>\n",
       "    <tr>\n",
       "      <th>0</th>\n",
       "      <td>37.0</td>\n",
       "      <td>1.0</td>\n",
       "      <td>-1.0</td>\n",
       "      <td>0.0</td>\n",
       "      <td>0.0</td>\n",
       "      <td>0.0</td>\n",
       "      <td>1.0</td>\n",
       "      <td>0.0</td>\n",
       "      <td>0.0</td>\n",
       "      <td>0.0</td>\n",
       "      <td>...</td>\n",
       "      <td>0.0</td>\n",
       "      <td>0.0</td>\n",
       "      <td>0.0</td>\n",
       "      <td>0.0</td>\n",
       "      <td>0.0</td>\n",
       "      <td>0.0</td>\n",
       "      <td>0.0</td>\n",
       "      <td>0.0</td>\n",
       "      <td>0.0</td>\n",
       "      <td>1.0</td>\n",
       "    </tr>\n",
       "    <tr>\n",
       "      <th>1</th>\n",
       "      <td>25.0</td>\n",
       "      <td>1.0</td>\n",
       "      <td>-1.0</td>\n",
       "      <td>0.0</td>\n",
       "      <td>0.0</td>\n",
       "      <td>0.0</td>\n",
       "      <td>0.0</td>\n",
       "      <td>0.0</td>\n",
       "      <td>0.0</td>\n",
       "      <td>0.0</td>\n",
       "      <td>...</td>\n",
       "      <td>0.0</td>\n",
       "      <td>0.0</td>\n",
       "      <td>0.0</td>\n",
       "      <td>0.0</td>\n",
       "      <td>0.0</td>\n",
       "      <td>0.0</td>\n",
       "      <td>0.0</td>\n",
       "      <td>0.0</td>\n",
       "      <td>0.0</td>\n",
       "      <td>1.0</td>\n",
       "    </tr>\n",
       "    <tr>\n",
       "      <th>2</th>\n",
       "      <td>53.0</td>\n",
       "      <td>3.0</td>\n",
       "      <td>-1.0</td>\n",
       "      <td>0.0</td>\n",
       "      <td>0.0</td>\n",
       "      <td>0.0</td>\n",
       "      <td>0.0</td>\n",
       "      <td>0.0</td>\n",
       "      <td>0.0</td>\n",
       "      <td>1.0</td>\n",
       "      <td>...</td>\n",
       "      <td>0.0</td>\n",
       "      <td>0.0</td>\n",
       "      <td>0.0</td>\n",
       "      <td>0.0</td>\n",
       "      <td>0.0</td>\n",
       "      <td>0.0</td>\n",
       "      <td>0.0</td>\n",
       "      <td>0.0</td>\n",
       "      <td>0.0</td>\n",
       "      <td>1.0</td>\n",
       "    </tr>\n",
       "    <tr>\n",
       "      <th>3</th>\n",
       "      <td>31.0</td>\n",
       "      <td>2.0</td>\n",
       "      <td>-1.0</td>\n",
       "      <td>0.0</td>\n",
       "      <td>0.0</td>\n",
       "      <td>0.0</td>\n",
       "      <td>0.0</td>\n",
       "      <td>1.0</td>\n",
       "      <td>0.0</td>\n",
       "      <td>0.0</td>\n",
       "      <td>...</td>\n",
       "      <td>0.0</td>\n",
       "      <td>0.0</td>\n",
       "      <td>0.0</td>\n",
       "      <td>0.0</td>\n",
       "      <td>0.0</td>\n",
       "      <td>0.0</td>\n",
       "      <td>0.0</td>\n",
       "      <td>0.0</td>\n",
       "      <td>0.0</td>\n",
       "      <td>1.0</td>\n",
       "    </tr>\n",
       "    <tr>\n",
       "      <th>4</th>\n",
       "      <td>43.0</td>\n",
       "      <td>2.0</td>\n",
       "      <td>-1.0</td>\n",
       "      <td>0.0</td>\n",
       "      <td>0.0</td>\n",
       "      <td>0.0</td>\n",
       "      <td>0.0</td>\n",
       "      <td>0.0</td>\n",
       "      <td>0.0</td>\n",
       "      <td>0.0</td>\n",
       "      <td>...</td>\n",
       "      <td>0.0</td>\n",
       "      <td>0.0</td>\n",
       "      <td>0.0</td>\n",
       "      <td>0.0</td>\n",
       "      <td>0.0</td>\n",
       "      <td>0.0</td>\n",
       "      <td>0.0</td>\n",
       "      <td>0.0</td>\n",
       "      <td>0.0</td>\n",
       "      <td>1.0</td>\n",
       "    </tr>\n",
       "  </tbody>\n",
       "</table>\n",
       "<p>5 rows × 79 columns</p>\n",
       "</div>"
      ],
      "text/plain": [
       "    age  campaign  pdays  previous  job__admin.  job__blue-collar  \\\n",
       "0  37.0       1.0   -1.0       0.0          0.0               0.0   \n",
       "1  25.0       1.0   -1.0       0.0          0.0               0.0   \n",
       "2  53.0       3.0   -1.0       0.0          0.0               0.0   \n",
       "3  31.0       2.0   -1.0       0.0          0.0               0.0   \n",
       "4  43.0       2.0   -1.0       0.0          0.0               0.0   \n",
       "\n",
       "   job__entrepreneur  job__housemaid  job__management  job__retired  ...  \\\n",
       "0                1.0             0.0              0.0           0.0  ...   \n",
       "1                0.0             0.0              0.0           0.0  ...   \n",
       "2                0.0             0.0              0.0           1.0  ...   \n",
       "3                0.0             1.0              0.0           0.0  ...   \n",
       "4                0.0             0.0              0.0           0.0  ...   \n",
       "\n",
       "   day__26  day__27  day__28  day__29  day__30  day__31  poutcome__failure  \\\n",
       "0      0.0      0.0      0.0      0.0      0.0      0.0                0.0   \n",
       "1      0.0      0.0      0.0      0.0      0.0      0.0                0.0   \n",
       "2      0.0      0.0      0.0      0.0      0.0      0.0                0.0   \n",
       "3      0.0      0.0      0.0      0.0      0.0      0.0                0.0   \n",
       "4      0.0      0.0      0.0      0.0      0.0      0.0                0.0   \n",
       "\n",
       "   poutcome__other  poutcome__success  poutcome__unknown  \n",
       "0              0.0                0.0                1.0  \n",
       "1              0.0                0.0                1.0  \n",
       "2              0.0                0.0                1.0  \n",
       "3              0.0                0.0                1.0  \n",
       "4              0.0                0.0                1.0  \n",
       "\n",
       "[5 rows x 79 columns]"
      ]
     },
     "execution_count": 62,
     "metadata": {},
     "output_type": "execute_result"
    }
   ],
   "source": [
    "X_train.head()"
   ]
  },
  {
   "cell_type": "code",
   "execution_count": 63,
   "metadata": {},
   "outputs": [
    {
     "data": {
      "text/plain": [
       "LGBMClassifier()"
      ]
     },
     "execution_count": 63,
     "metadata": {},
     "output_type": "execute_result"
    }
   ],
   "source": [
    "\"\"\"타 모델들과 비교\"\"\"\n",
    "from interpret.glassbox import LogisticRegression, ClassificationTree \n",
    "from interpret.perf import ROC\n",
    "from lightgbm import LGBMClassifier\n",
    "\n",
    "# Logistic Regression\n",
    "lr_model = LogisticRegression()\n",
    "\n",
    "lr_model.fit(X_train, y_train)\n",
    "# Random Forest\n",
    "rf_model = ClassificationTree()\n",
    "\n",
    "rf_model.fit(X_train, y_train)\n",
    "\n",
    "#Light GBM\n",
    "lgb_model = LGBMClassifier()\n",
    "\n",
    "lgb_model.fit(X_train, y_train)"
   ]
  },
  {
   "cell_type": "code",
   "execution_count": 64,
   "metadata": {},
   "outputs": [
    {
     "data": {
      "text/html": [
       "<!-- http://127.0.0.1:7001/1764058306248/ -->\n",
       "<iframe src=\"http://127.0.0.1:7001/1764058306248/\" width=100% height=800 frameBorder=\"0\"></iframe>"
      ]
     },
     "metadata": {},
     "output_type": "display_data"
    },
    {
     "data": {
      "text/html": [
       "<!-- http://127.0.0.1:7001/1764060168136/ -->\n",
       "<iframe src=\"http://127.0.0.1:7001/1764060168136/\" width=100% height=800 frameBorder=\"0\"></iframe>"
      ]
     },
     "metadata": {},
     "output_type": "display_data"
    },
    {
     "data": {
      "text/html": [
       "<!-- http://127.0.0.1:7001/1764058306760/ -->\n",
       "<iframe src=\"http://127.0.0.1:7001/1764058306760/\" width=100% height=800 frameBorder=\"0\"></iframe>"
      ]
     },
     "metadata": {},
     "output_type": "display_data"
    },
    {
     "data": {
      "text/html": [
       "<!-- http://127.0.0.1:7001/1764058305288/ -->\n",
       "<iframe src=\"http://127.0.0.1:7001/1764058305288/\" width=100% height=800 frameBorder=\"0\"></iframe>"
      ]
     },
     "metadata": {},
     "output_type": "display_data"
    }
   ],
   "source": [
    "\"\"\"다른 모델 객체들도 대시보드 형태로 보여줄 수 있다.\"\"\"\n",
    "lr_perf = ROC(lr_model.predict_proba).explain_perf(X_test, y_test, name='Logistic Regression')\n",
    "tree_perf = ROC(rf_model.predict_proba).explain_perf(X_test, y_test, name='Classification Tree')\n",
    "lgbm_perf = ROC(lgb_model.predict_proba).explain_perf(X_test, y_test, name='Light GBM')\n",
    "ebm_perf = ROC(ebm.predict_proba).explain_perf(X_test, y_test, name = 'EBM')\n",
    "\n",
    "\n",
    "show(lr_perf)\n",
    "show(tree_perf)\n",
    "show(ebm_perf)\n",
    "show(lgbm_perf)"
   ]
  },
  {
   "cell_type": "code",
   "execution_count": 65,
   "metadata": {},
   "outputs": [
    {
     "data": {
      "text/html": [
       "<!-- http://127.0.0.1:7001/1764095677064/ -->\n",
       "<iframe src=\"http://127.0.0.1:7001/1764095677064/\" width=100% height=800 frameBorder=\"0\"></iframe>"
      ]
     },
     "metadata": {},
     "output_type": "display_data"
    },
    {
     "data": {
      "text/html": [
       "<!-- http://127.0.0.1:7001/1764095553672/ -->\n",
       "<iframe src=\"http://127.0.0.1:7001/1764095553672/\" width=100% height=800 frameBorder=\"0\"></iframe>"
      ]
     },
     "metadata": {},
     "output_type": "display_data"
    },
    {
     "data": {
      "text/html": [
       "<!-- http://127.0.0.1:7001/1764093683464/ -->\n",
       "<iframe src=\"http://127.0.0.1:7001/1764093683464/\" width=100% height=800 frameBorder=\"0\"></iframe>"
      ]
     },
     "metadata": {},
     "output_type": "display_data"
    }
   ],
   "source": [
    "lr_global = lr_model.explain_global(name='LR')\n",
    "tree_global = rf_model.explain_global(name='Tree')\n",
    "\n",
    "show(lr_global)\n",
    "show(tree_global)\n",
    "show(ebm_global)"
   ]
  },
  {
   "cell_type": "code",
   "execution_count": 66,
   "metadata": {},
   "outputs": [
    {
     "data": {
      "text/html": [
       "<!-- http://127.0.0.1:7001/1764095511688/ -->\n",
       "<a href=\"http://127.0.0.1:7001/1764095511688/\" target=\"_new\">Open in new window</a><iframe src=\"http://127.0.0.1:7001/1764095511688/\" width=100% height=800 frameBorder=\"0\"></iframe>"
      ]
     },
     "metadata": {},
     "output_type": "display_data"
    }
   ],
   "source": [
    "lr_global = lr_model.explain_global(name='LR')\n",
    "tree_global = rf_model.explain_global(name='Tree')\n",
    "show([hist, lr_global, lr_perf, tree_global, tree_perf,ebm_global,ebm_local,ebm_perf], share_tables=True)"
   ]
  }
 ],
 "metadata": {
  "kernelspec": {
   "display_name": "Python 3.7.11 ('torch-gpu')",
   "language": "python",
   "name": "python3"
  },
  "language_info": {
   "codemirror_mode": {
    "name": "ipython",
    "version": 3
   },
   "file_extension": ".py",
   "mimetype": "text/x-python",
   "name": "python",
   "nbconvert_exporter": "python",
   "pygments_lexer": "ipython3",
   "version": "3.7.11"
  },
  "orig_nbformat": 4,
  "vscode": {
   "interpreter": {
    "hash": "69f443095525f2467c034a863fbb849f2621b9ca87839daf8c48ed874bc8a4ae"
   }
  }
 },
 "nbformat": 4,
 "nbformat_minor": 2
}
